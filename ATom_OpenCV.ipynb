{
 "cells": [
  {
   "cell_type": "code",
   "execution_count": 1,
   "metadata": {},
   "outputs": [],
   "source": [
    "import pandas as pd\n",
    "import numpy as np \n",
    "import cv2"
   ]
  },
  {
   "cell_type": "code",
   "execution_count": 2,
   "metadata": {},
   "outputs": [],
   "source": [
    "W=600 #dimesio of the display window\n",
    "size = W, W, 3 #creating a numpy array for the BRG\n",
    "font = cv2.FONT_HERSHEY_SIMPLEX\n",
    "atom_image = np.zeros(size, dtype=np.uint8) #original black screen"
   ]
  },
  {
   "cell_type": "code",
   "execution_count": 9,
   "metadata": {},
   "outputs": [],
   "source": [
    "def ellipse_blue(img, angle):\n",
    "    thickness = 2\n",
    "    line_type = 8\n",
    "    cv2.ellipse(img,\n",
    "                (W // 2, W // 2),\n",
    "                (W // 4, W // 16),\n",
    "                angle,\n",
    "                0,\n",
    "                360,\n",
    "                (255, 0, 0),\n",
    "                thickness,\n",
    "                line_type)\n",
    "def ellipse_cyan(img, angle):\n",
    "    thickness = 2\n",
    "    line_type = 8\n",
    "    cv2.ellipse(img,\n",
    "                (W // 2, W // 2),\n",
    "                (W // 4, W // 16),\n",
    "                angle,\n",
    "                0,\n",
    "                360,\n",
    "                (255, 255, 0),\n",
    "                thickness,\n",
    "                line_type)\n",
    "def circle_red(img):\n",
    "    thinkness=-1\n",
    "    cv2.circle(img,\n",
    "              (W//2,W//2),  #parameter for the centre of the circle. W= dimention of the display window\n",
    "              15,\n",
    "              [0,80,255],\n",
    "              thinkness)\n",
    "def ellipse_green(img, angle):\n",
    "    thickness = 2\n",
    "    line_type = 8\n",
    "    cv2.ellipse(img,\n",
    "                (W // 2, W // 2),\n",
    "                (W // 4, W // 16),\n",
    "                angle,\n",
    "                0,\n",
    "                360,\n",
    "                (0, 255, 0),\n",
    "                thickness,\n",
    "                line_type)\n",
    "def ellipse_yellow(img, angle):\n",
    "    thickness = 2\n",
    "    line_type = 8\n",
    "    cv2.ellipse(img,\n",
    "                (W // 2, W // 2),\n",
    "                (W // 4, W // 16),\n",
    "                angle,\n",
    "                0,\n",
    "                360,\n",
    "                (0, 255, 255),\n",
    "                thickness,\n",
    "                line_type)"
   ]
  },
  {
   "cell_type": "code",
   "execution_count": 10,
   "metadata": {},
   "outputs": [],
   "source": [
    "a=90\n",
    "b=0\n",
    "c=45\n",
    "d=-45\n",
    "while True:\n",
    "    ellipse_blue(atom_image, a)\n",
    "    ellipse_cyan(atom_image,b)\n",
    "    ellipse_green(atom_image,c)\n",
    "    ellipse_yellow(atom_image,d)\n",
    "    circle_red(atom_image)\n",
    "    a=a+5\n",
    "    b=b+8\n",
    "    c=c+5\n",
    "    d=d-45\n",
    "    cv2.imshow('frame',atom_image)\n",
    "    atom_image = np.zeros(size, dtype=np.uint8)\n",
    "    if cv2.waitKey(10)==13:\n",
    "        break\n",
    "cv2.destroyAllWindows()"
   ]
  },
  {
   "cell_type": "code",
   "execution_count": null,
   "metadata": {},
   "outputs": [],
   "source": []
  }
 ],
 "metadata": {
  "kernelspec": {
   "display_name": "Python 3",
   "language": "python",
   "name": "python3"
  },
  "language_info": {
   "codemirror_mode": {
    "name": "ipython",
    "version": 3
   },
   "file_extension": ".py",
   "mimetype": "text/x-python",
   "name": "python",
   "nbconvert_exporter": "python",
   "pygments_lexer": "ipython3",
   "version": "3.8.3"
  }
 },
 "nbformat": 4,
 "nbformat_minor": 4
}
